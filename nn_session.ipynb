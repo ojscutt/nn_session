{
  "cells": [
    {
      "cell_type": "markdown",
      "id": "e94ef844-bbb6-42bb-95e4-817818ff19fa",
      "metadata": {
        "id": "e94ef844-bbb6-42bb-95e4-817818ff19fa"
      },
      "source": [
        "# Neural Networks Skills Session\n",
        "Notebook for my skills session on neural networks on 2024-03-01. Get started with some useful imports:"
      ]
    },
    {
      "cell_type": "code",
      "execution_count": null,
      "id": "7b79411b-d1a0-41c9-aecf-606b06571982",
      "metadata": {
        "id": "7b79411b-d1a0-41c9-aecf-606b06571982"
      },
      "outputs": [],
      "source": []
    },
    {
      "cell_type": "markdown",
      "id": "539a5425-5a1f-4d50-b74a-8675e79b4601",
      "metadata": {
        "id": "539a5425-5a1f-4d50-b74a-8675e79b4601"
      },
      "source": [
        "## 1) Neural network basics"
      ]
    },
    {
      "cell_type": "code",
      "execution_count": null,
      "id": "10bb4a46-c860-438e-880f-b6b3e0025d7d",
      "metadata": {
        "id": "10bb4a46-c860-438e-880f-b6b3e0025d7d"
      },
      "outputs": [],
      "source": []
    }
  ],
  "metadata": {
    "kernelspec": {
      "display_name": "Python 3 (ipykernel)",
      "language": "python",
      "name": "python3"
    },
    "language_info": {
      "codemirror_mode": {
        "name": "ipython",
        "version": 3
      },
      "file_extension": ".py",
      "mimetype": "text/x-python",
      "name": "python",
      "nbconvert_exporter": "python",
      "pygments_lexer": "ipython3",
      "version": "3.10.13"
    },
    "colab": {
      "provenance": []
    }
  },
  "nbformat": 4,
  "nbformat_minor": 5
}