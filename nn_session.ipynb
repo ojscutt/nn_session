{
  "cells": [
    {
      "cell_type": "markdown",
      "id": "e94ef844-bbb6-42bb-95e4-817818ff19fa",
      "metadata": {
        "id": "e94ef844-bbb6-42bb-95e4-817818ff19fa"
      },
      "source": [
        "# Neural Networks Skills Session\n",
        "*Notebook for my skills session on neural networks on 2024-03-01*\n",
        "\n",
        "The aim for this notebook are to:\n",
        "- Give you an idea of what a neural network actually is\n",
        "- Show you what the caveats are (they aren't actually magic)\n",
        "- Get you training a neural network to emulate simple stellar evolution data\n",
        "\n",
        "\n",
        "Get started with some imports:"
      ]
    },
    {
      "cell_type": "code",
      "execution_count": 2,
      "id": "7b79411b-d1a0-41c9-aecf-606b06571982",
      "metadata": {
        "id": "7b79411b-d1a0-41c9-aecf-606b06571982"
      },
      "outputs": [],
      "source": [
        "import tensorflow as tf\n",
        "import numpy as np\n",
        "import pandas as pd\n",
        "import matplotlib.pyplot as plt"
      ]
    },
    {
      "cell_type": "markdown",
      "id": "539a5425-5a1f-4d50-b74a-8675e79b4601",
      "metadata": {
        "id": "539a5425-5a1f-4d50-b74a-8675e79b4601"
      },
      "source": [
        "## 1) What are neural networks?\n",
        "Neural networks are a type of machine learning model which learn complex patterns from the data they are trained on.\n",
        "\n",
        "They consist of a series of interconnected ***layers*** which are populated by one or many ***neurons***:\n",
        "\n",
        "\n"
      ]
    },
    {
      "cell_type": "code",
      "execution_count": null,
      "id": "10bb4a46-c860-438e-880f-b6b3e0025d7d",
      "metadata": {
        "id": "10bb4a46-c860-438e-880f-b6b3e0025d7d"
      },
      "outputs": [],
      "source": []
    }
  ],
  "metadata": {
    "kernelspec": {
      "display_name": "Python 3 (ipykernel)",
      "language": "python",
      "name": "python3"
    },
    "language_info": {
      "codemirror_mode": {
        "name": "ipython",
        "version": 3
      },
      "file_extension": ".py",
      "mimetype": "text/x-python",
      "name": "python",
      "nbconvert_exporter": "python",
      "pygments_lexer": "ipython3",
      "version": "3.10.13"
    },
    "colab": {
      "provenance": [],
      "toc_visible": true
    }
  },
  "nbformat": 4,
  "nbformat_minor": 5
}