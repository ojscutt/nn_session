{
 "cells": [
  {
   "cell_type": "markdown",
   "id": "e94ef844-bbb6-42bb-95e4-817818ff19fa",
   "metadata": {},
   "source": [
    "# Neural Networks Skills Session"
   ]
  },
  {
   "cell_type": "code",
   "execution_count": null,
   "id": "0882fb44-2570-404d-8d8c-0fbcbf20d2e6",
   "metadata": {},
   "outputs": [],
   "source": []
  }
 ],
 "metadata": {
  "kernelspec": {
   "display_name": "Python 3 (ipykernel)",
   "language": "python",
   "name": "python3"
  },
  "language_info": {
   "codemirror_mode": {
    "name": "ipython",
    "version": 3
   },
   "file_extension": ".py",
   "mimetype": "text/x-python",
   "name": "python",
   "nbconvert_exporter": "python",
   "pygments_lexer": "ipython3",
   "version": "3.10.13"
  }
 },
 "nbformat": 4,
 "nbformat_minor": 5
}
