{
  "cells": [
    {
      "cell_type": "markdown",
      "id": "e94ef844-bbb6-42bb-95e4-817818ff19fa",
      "metadata": {
        "id": "e94ef844-bbb6-42bb-95e4-817818ff19fa"
      },
      "source": [
        "# Neural Networks Skills Session\n",
        "*Notebook for my skills session on neural networks on 2024-03-01*\n",
        "\n",
        "The aims for this skills session are to:\n",
        "- Give you an idea of what a neural network actually is\n",
        "- Show you what the caveats are (they aren't actually magic)\n",
        "- Get you training a neural network to emulate simple stellar evolution data\n",
        "\n",
        "\n",
        "Get started with some imports:"
      ]
    },
    {
      "cell_type": "code",
      "execution_count": 2,
      "id": "7b79411b-d1a0-41c9-aecf-606b06571982",
      "metadata": {
        "id": "7b79411b-d1a0-41c9-aecf-606b06571982"
      },
      "outputs": [],
      "source": [
        "import tensorflow as tf\n",
        "import numpy as np\n",
        "import pandas as pd\n",
        "import matplotlib.pyplot as plt"
      ]
    },
    {
      "cell_type": "markdown",
      "id": "539a5425-5a1f-4d50-b74a-8675e79b4601",
      "metadata": {
        "id": "539a5425-5a1f-4d50-b74a-8675e79b4601"
      },
      "source": [
        "# 1 Neural network basics\n",
        "Neural networks are a type of machine learning model which learn to reproduce patterns from the data they are trained on.\n",
        "\n",
        "They consist of a series of interconnected ***layers*** which are populated by one or more ***neurons***. Inputs are passed through :\n",
        "\n",
        "***IMAGE OF HORRIBLE FULLY CONNECTED LAYERS HERE***\n",
        "\n",
        "Seeing diagrams like this might be what has stopped you from looking any further into learning how to train your own neural networks, but I promise it really isn't as bad as it looks!"
      ]
    },
    {
      "cell_type": "markdown",
      "source": [
        "## 1.1 What are neurons?\n",
        "Each node in the image above is a singe neuron in an example network.\n",
        "\n",
        "Let's take a look at what a neuron looks like for a single-input network:\n",
        "\n",
        "***NEURON IMAGE HERE, SINGLE INPUT***\n",
        "\n",
        "To get an output $y$ from some input $x$, we just apply a linear transformation of the form\n",
        "\\begin{equation}\n",
        "  y = f(wx+b),\n",
        "\\end{equation}\n",
        "where $w$ is a ***weight*** term, $b$ is a ***bias*** term. ($f(\\cdot)$ is the ***activation function***, we'll come back to this later!)\n",
        "\n",
        "A neural network consisting of a single layer, with a single neuron, and a linear activation function (i.e $f(a) = a$) is just optimising a linear fit by tuning the neuron weights and biases.\n",
        "\n",
        "Let's see how this looks:"
      ],
      "metadata": {
        "id": "QIEcfR5aiOlp"
      },
      "id": "QIEcfR5aiOlp"
    },
    {
      "cell_type": "code",
      "source": [
        "def linear_fit(weight, bias):\n",
        "  ##### generate inputs #####\n",
        "  x = np.random.rand(1000)\n",
        "\n",
        "  ##### generate outputs #####\n",
        "  y = weight*x + bias\n",
        "\n",
        "  ##### create tensorflow model #####\n",
        "  tf.keras.backend.clear_session()\n",
        "  linear_model = tf.keras.Sequential()#instantiate model\n",
        "\n",
        "  linear_model.add(tf.keras.Input(1,))#input layer\n",
        "\n",
        "  linear_model.add(tf.keras.layers.Dense(units=1, activation=\"linear\",))#single dense layer, single neuron, linear activation\n",
        "\n",
        "  linear_model.compile(loss='mse')\n",
        "\n",
        "  linear_model.fit(x,y,epochs=50,batch_size=10, verbose=0)\n",
        "\n",
        "  ##### print neuron weights and biases #####\n",
        "  print(\"linear model weight = \" + str(linear_model.layers[0].get_weights()[0]))\n",
        "  print(\"linear model bias = \" + str(linear_model.layers[0].get_weights()[1]))\n",
        "\n",
        "weight= 0.5 #<--- input value here\n",
        "bias = 0.8 #<--- input value here\n",
        "\n",
        "linear_fit(weight, bias)"
      ],
      "metadata": {
        "colab": {
          "base_uri": "https://localhost:8080/"
        },
        "id": "TYje1SHCrypi",
        "outputId": "26b4a360-3937-4b78-ac0b-2f62d3946628"
      },
      "id": "TYje1SHCrypi",
      "execution_count": 14,
      "outputs": [
        {
          "output_type": "stream",
          "name": "stdout",
          "text": [
            "linear model weight = [[0.49981344]]\n",
            "linear model bias = [0.79993695]\n"
          ]
        }
      ]
    },
    {
      "cell_type": "markdown",
      "source": [
        "In many cases, we'll have more than one input into our networks ($\\textbf{x}$).\n",
        "\n",
        "Then our single neuron takes this form:\n",
        "\n",
        "***NEURON IMAGE HERE, MANY INPUTS***\n",
        "\n",
        "And our linear transformation just becomes\n",
        "\\begin{equation}\n",
        "  y = f(\\textbf{w} \\cdot \\textbf{x} +b),\n",
        "\\end{equation}\n",
        "where $\\textbf{w}$ contains multiple weights.\n",
        "\n",
        "Let's see how our simple one neuron network copes with multiple inputs:\n"
      ],
      "metadata": {
        "id": "gWZ_V7C1MQKL"
      },
      "id": "gWZ_V7C1MQKL"
    },
    {
      "cell_type": "code",
      "source": [
        "def linear_fit(weights, bias):\n",
        "  ##### generate inputs and outputs #####\n",
        "  dataset_size=1000\n",
        "  inputs={}\n",
        "  output=np.full(dataset_size, bias)\n",
        "\n",
        "  for idx in range(len(weights)):\n",
        "    x = np.random.rand(dataset_size)\n",
        "    inputs[f'x{idx}'] = x\n",
        "    output += weights[idx]*x\n",
        "\n",
        "  ##### create tensorflow model #####\n",
        "  tf.keras.backend.clear_session()\n",
        "  linear_model = tf.keras.Sequential()#instantiate model\n",
        "\n",
        "  linear_model.add(tf.keras.Input(len(weights),))#input layer\n",
        "\n",
        "  linear_model.add(tf.keras.layers.Dense(units=1, activation=\"linear\",))#single dense layer, single neuron, linear activation\n",
        "\n",
        "  linear_model.compile(loss='mse')\n",
        "\n",
        "  linear_model.fit(np.column_stack([inputs[f'x{idx}'] for idx in range(len(weights))]),output,epochs=100,batch_size=10, verbose=0)\n",
        "\n",
        "  ##### print neuron weights and biases #####\n",
        "  print(\"linear model weights = \" + str(linear_model.layers[0].get_weights()[0]))\n",
        "  print(\"linear model bias = \" + str(linear_model.layers[0].get_weights()[1]))\n",
        "\n",
        "weights= [0.5,0.8,-0.4,-0.2] #<--- input values here\n",
        "bias = 0.3 #<--- input value here\n",
        "\n",
        "linear_fit(weights, bias)"
      ],
      "metadata": {
        "colab": {
          "base_uri": "https://localhost:8080/"
        },
        "id": "yPkovihiCnZx",
        "outputId": "64f13f9e-67b0-4599-a771-e561682949d8"
      },
      "id": "yPkovihiCnZx",
      "execution_count": 15,
      "outputs": [
        {
          "output_type": "stream",
          "name": "stdout",
          "text": [
            "linear model weights = [[ 0.50016195]\n",
            " [ 0.8001223 ]\n",
            " [-0.39946705]\n",
            " [-0.19962049]]\n",
            "linear model bias = [0.30025494]\n"
          ]
        }
      ]
    },
    {
      "cell_type": "markdown",
      "source": [
        "This looks good so far, but what if we want to start building up our network with more neurons to fit more complex functions?\n",
        "\n",
        "Let's go back to our model from the start, linking a single input $x$ to a single output $y$, but this time pass $x$ through three neurons, $n_1, n_2,$ and $n_3$, instead of just one.\n",
        "\n",
        "Given we know now what each neuron is doing, it's easy to construct a function linking $x$ to $y$:\n",
        "\n",
        "\\begin{equation}\n",
        "y = f(w_3f(w_2f(w_1x+b_1)+b_2)+b_3).\n",
        "\\end{equation}\n",
        "\n",
        "Now we know what is happening within each neuron, let's move on to the activation function."
      ],
      "metadata": {
        "id": "xxFRTwARS-iq"
      },
      "id": "xxFRTwARS-iq"
    },
    {
      "cell_type": "markdown",
      "source": [
        "## 1.2 Activation functions\n",
        "Activation functions are used to introduce non-linearities into neural networks to allow us to fit more complex functions.\n",
        "\n",
        "Before, we just used a linear activation function of the form\n",
        "\\begin{equation}\n",
        "f(\\textbf{w}\\cdot\\textbf{x} + b) = \\alpha(\\textbf{w}\\cdot\\textbf{x} + b) + \\beta,\n",
        "\\end{equation}\n",
        "where $(\\alpha, \\beta) = (1,0)$.\n",
        "\n",
        "It turns out linear activation functions aren't a good choice if we're looking for non-linearity!\n",
        "\n",
        "If we take our equation for a series of neurons from before:\n",
        "\n",
        "\\begin{equation}\n",
        "y = \\alpha w_3(\\alpha w_2(\\alpha w_1x + b_3 + \\beta) + b_ 2 + \\beta) + b_3 + \\beta,\n",
        "\\end{equation}\n",
        "\n",
        "Given that our neuron weights and biases, $w_n$ and $b_n$, and our linear activation function terms, $\\alpha$ and $\\beta$, are all constants, this equation for our fit collapses down to\n",
        "\n",
        "\\begin{equation}\n",
        "y = \\alpha^3 w_3 w_2 w_1 x + \\gamma,\n",
        "\\end{equation}\n",
        "\n",
        "where $\\gamma$ is a constant. It doesn't matter how much we tune our $w_n$ terms here, we're stuck with a linear fit!\n",
        "\n",
        "Due to its computational efficiency, popular choice is the Rectified Linear Unit (ReLU) function:\n",
        "\\begin{equation}\n",
        "f(x) = \\textrm{max}(0,x),\n",
        "\\end{equation}\n",
        "Plotting this, we get:"
      ],
      "metadata": {
        "id": "gtywYgT1SCfF"
      },
      "id": "gtywYgT1SCfF"
    },
    {
      "cell_type": "code",
      "source": [
        "def rectified_linear_unit(x):\n",
        "  return max(0.0, x)\n",
        "\n",
        "x = np.linspace(-1,1,100)\n",
        "y = [rectified_linear_unit(x_val) for x_val in x]\n",
        "plt.plot(x,y)\n",
        "plt.axvline(0, color='black')"
      ],
      "metadata": {
        "id": "pdtsK_llg7tM",
        "outputId": "6d483a78-36db-4c14-b9b5-70b4155fd56e",
        "colab": {
          "base_uri": "https://localhost:8080/",
          "height": 447
        }
      },
      "id": "pdtsK_llg7tM",
      "execution_count": 7,
      "outputs": [
        {
          "output_type": "execute_result",
          "data": {
            "text/plain": [
              "<matplotlib.lines.Line2D at 0x7e448c497850>"
            ]
          },
          "metadata": {},
          "execution_count": 7
        },
        {
          "output_type": "display_data",
          "data": {
            "text/plain": [
              "<Figure size 640x480 with 1 Axes>"
            ],
            "image/png": "[encoded data removed]"
          },
          "metadata": {}
        }
      ]
    },
    {
      "cell_type": "markdown",
      "source": [
        "You might be thinking that this still seems very close to a linear function.\n",
        "\n",
        "However, ReLU doesn't stick to the condition of a linear function that requires\n",
        "\\begin{equation}\n",
        "f(x) + f(y) = f(x+y),\n",
        "\\end{equation}\n",
        "because for ReLU $f(-1) + f(1) \\neq f(0)$.\n",
        "\n",
        "This means we avoid the function for our series of neurons collapsing down to just a linear fit, and we have non-linearity!\n",
        "\n",
        "Now, by increasing the number of layers in our network, and the number of neurons per layer, we're able to effectively reproduce complex functions present in a dataset used for training.\n",
        "\n",
        "For the rest of this notebook we'll stick to just using ReLU, but I'll show you a couple of other activation functions here:"
      ],
      "metadata": {
        "id": "t9wbCrPQjUg7"
      },
      "id": "t9wbCrPQjUg7"
    },
    {
      "cell_type": "code",
      "source": [
        "### ACTIVATION FUNCTIONS ###"
      ],
      "metadata": {
        "id": "sMjdy8Evm3VO"
      },
      "id": "sMjdy8Evm3VO",
      "execution_count": 10,
      "outputs": []
    },
    {
      "cell_type": "markdown",
      "source": [
        "## 1.3) Loss functions\n",
        "The last part of a basic neural network we need to learn about is the ***loss function*** - this is how our neural network determines how well it is fitting the data.\n",
        "\n",
        "For a every point in our dataset of $N$ points, each with an $x$ and $y$ value, we show our network the input $x$ and it makes a prediction $\\hat{y}$.\n",
        "\n",
        "A common choice is to take the Mean Squared Error (MSE), averaged over all $N$ points:\n",
        "\\begin{equation}\n",
        "\\textrm{MSE} = \\frac{1}{N} \\sum_{y=i}^{N} (y_i-\\hat{y}_i)^2\n",
        "\\end{equation}\n",
        "\n",
        "During training, our network tunes the neuron weights and biases in a way that decreases the MSE over the dataset.\n",
        "\n",
        "I turned off the in-training network printout from the cells for our single neuron, but lets run them again with the printout enabled (setting verbose=1 in model.fit) to see what we get:"
      ],
      "metadata": {
        "id": "GXtJj-ItoG-U"
      },
      "id": "GXtJj-ItoG-U"
    },
    {
      "cell_type": "code",
      "source": [
        "def linear_fit(weight, bias):\n",
        "  ##### generate inputs #####\n",
        "  x = np.random.rand(1000)\n",
        "\n",
        "  ##### generate outputs #####\n",
        "  y = weight*x + bias\n",
        "\n",
        "  ##### create tensorflow model #####\n",
        "  tf.keras.backend.clear_session()\n",
        "  linear_model = tf.keras.Sequential()#instantiate model\n",
        "\n",
        "  linear_model.add(tf.keras.Input(1,))#input layer\n",
        "\n",
        "  linear_model.add(tf.keras.layers.Dense(units=1, activation=\"linear\",))#single dense layer, single neuron, linear activation\n",
        "\n",
        "  linear_model.compile(loss='mse')\n",
        "\n",
        "  linear_model.fit(x,y,epochs=50,batch_size=10, verbose=1)\n",
        "\n",
        "  ##### print neuron weights and biases #####\n",
        "  print(\"linear model weight = \" + str(linear_model.layers[0].get_weights()[0]))\n",
        "  print(\"linear model bias = \" + str(linear_model.layers[0].get_weights()[1]))\n",
        "\n",
        "weight= 0.5 #<--- input value here\n",
        "bias = 0.8 #<--- input value here\n",
        "\n",
        "linear_fit(weight, bias)"
      ],
      "metadata": {
        "id": "zrHf-bNvqa9e",
        "outputId": "6023f5fb-f488-4582-de35-846316ae10f8",
        "colab": {
          "base_uri": "https://localhost:8080/"
        }
      },
      "id": "zrHf-bNvqa9e",
      "execution_count": 16,
      "outputs": [
        {
          "output_type": "stream",
          "name": "stdout",
          "text": [
            "Epoch 1/50\n",
            "100/100 [==============================] - 1s 2ms/step - loss: 2.2699\n",
            "Epoch 2/50\n",
            "100/100 [==============================] - 0s 2ms/step - loss: 1.8381\n",
            "Epoch 3/50\n",
            "100/100 [==============================] - 0s 1ms/step - loss: 1.4577\n",
            "Epoch 4/50\n",
            "100/100 [==============================] - 0s 1ms/step - loss: 1.1248\n",
            "Epoch 5/50\n",
            "100/100 [==============================] - 0s 1ms/step - loss: 0.8391\n",
            "Epoch 6/50\n",
            "100/100 [==============================] - 0s 1ms/step - loss: 0.5884\n",
            "Epoch 7/50\n",
            "100/100 [==============================] - 0s 1ms/step - loss: 0.3893\n",
            "Epoch 8/50\n",
            "100/100 [==============================] - 0s 1ms/step - loss: 0.2328\n",
            "Epoch 9/50\n",
            "100/100 [==============================] - 0s 1ms/step - loss: 0.1204\n",
            "Epoch 10/50\n",
            "100/100 [==============================] - 0s 1ms/step - loss: 0.0508\n",
            "Epoch 11/50\n",
            "100/100 [==============================] - 0s 1ms/step - loss: 0.0203\n",
            "Epoch 12/50\n",
            "100/100 [==============================] - 0s 1ms/step - loss: 0.0134\n",
            "Epoch 13/50\n",
            "100/100 [==============================] - 0s 1ms/step - loss: 0.0088\n",
            "Epoch 14/50\n",
            "100/100 [==============================] - 0s 1ms/step - loss: 0.0053\n",
            "Epoch 15/50\n",
            "100/100 [==============================] - 0s 1ms/step - loss: 0.0026\n",
            "Epoch 16/50\n",
            "100/100 [==============================] - 0s 1ms/step - loss: 9.6422e-04\n",
            "Epoch 17/50\n",
            "100/100 [==============================] - 0s 1ms/step - loss: 1.5174e-04\n",
            "Epoch 18/50\n",
            "100/100 [==============================] - 0s 1ms/step - loss: 8.7944e-07\n",
            "Epoch 19/50\n",
            "100/100 [==============================] - 0s 1ms/step - loss: 5.4125e-07\n",
            "Epoch 20/50\n",
            "100/100 [==============================] - 0s 1ms/step - loss: 4.9615e-07\n",
            "Epoch 21/50\n",
            "100/100 [==============================] - 0s 1ms/step - loss: 5.4103e-07\n",
            "Epoch 22/50\n",
            "100/100 [==============================] - 0s 2ms/step - loss: 5.3062e-07\n",
            "Epoch 23/50\n",
            "100/100 [==============================] - 0s 2ms/step - loss: 5.0926e-07\n",
            "Epoch 24/50\n",
            "100/100 [==============================] - 0s 2ms/step - loss: 5.2295e-07\n",
            "Epoch 25/50\n",
            "100/100 [==============================] - 0s 2ms/step - loss: 5.3355e-07\n",
            "Epoch 26/50\n",
            "100/100 [==============================] - 0s 2ms/step - loss: 4.8935e-07\n",
            "Epoch 27/50\n",
            "100/100 [==============================] - 0s 2ms/step - loss: 5.1247e-07\n",
            "Epoch 28/50\n",
            "100/100 [==============================] - 0s 2ms/step - loss: 5.3546e-07\n",
            "Epoch 29/50\n",
            "100/100 [==============================] - 0s 2ms/step - loss: 5.2505e-07\n",
            "Epoch 30/50\n",
            "100/100 [==============================] - 0s 2ms/step - loss: 5.3473e-07\n",
            "Epoch 31/50\n",
            "100/100 [==============================] - 0s 2ms/step - loss: 5.0476e-07\n",
            "Epoch 32/50\n",
            "100/100 [==============================] - 0s 2ms/step - loss: 5.1383e-07\n",
            "Epoch 33/50\n",
            "100/100 [==============================] - 0s 1ms/step - loss: 5.4396e-07\n",
            "Epoch 34/50\n",
            "100/100 [==============================] - 0s 1ms/step - loss: 5.2959e-07\n",
            "Epoch 35/50\n",
            "100/100 [==============================] - 0s 1ms/step - loss: 5.1961e-07\n",
            "Epoch 36/50\n",
            "100/100 [==============================] - 0s 1ms/step - loss: 5.0531e-07\n",
            "Epoch 37/50\n",
            "100/100 [==============================] - 0s 1ms/step - loss: 5.4153e-07\n",
            "Epoch 38/50\n",
            "100/100 [==============================] - 0s 1ms/step - loss: 5.1195e-07\n",
            "Epoch 39/50\n",
            "100/100 [==============================] - 0s 1ms/step - loss: 5.3212e-07\n",
            "Epoch 40/50\n",
            "100/100 [==============================] - 0s 1ms/step - loss: 4.9981e-07\n",
            "Epoch 41/50\n",
            "100/100 [==============================] - 0s 1ms/step - loss: 5.3424e-07\n",
            "Epoch 42/50\n",
            "100/100 [==============================] - 0s 1ms/step - loss: 5.2093e-07\n",
            "Epoch 43/50\n",
            "100/100 [==============================] - 0s 1ms/step - loss: 5.1188e-07\n",
            "Epoch 44/50\n",
            "100/100 [==============================] - 0s 1ms/step - loss: 5.3469e-07\n",
            "Epoch 45/50\n",
            "100/100 [==============================] - 0s 1ms/step - loss: 4.9520e-07\n",
            "Epoch 46/50\n",
            "100/100 [==============================] - 0s 1ms/step - loss: 5.2374e-07\n",
            "Epoch 47/50\n",
            "100/100 [==============================] - 0s 1ms/step - loss: 5.3308e-07\n",
            "Epoch 48/50\n",
            "100/100 [==============================] - 0s 1ms/step - loss: 5.2945e-07\n",
            "Epoch 49/50\n",
            "100/100 [==============================] - 0s 1ms/step - loss: 5.4130e-07\n",
            "Epoch 50/50\n",
            "100/100 [==============================] - 0s 1ms/step - loss: 5.0569e-07\n",
            "linear model weight = [[0.50040406]]\n",
            "linear model bias = [0.8000805]\n"
          ]
        }
      ]
    },
    {
      "cell_type": "markdown",
      "source": [
        "Hopefully, you should get a series of readouts that look something like this:\n",
        "\n",
        "> Epoch 1/50\\\n",
        "100/100 [==============================] - 1s 2ms/step - loss: 2.2699\\\n",
        "Epoch 2/50\\\n",
        "100/100 [==============================] - 0s 2ms/step - loss: 1.8381\\\n",
        "Epoch 3/50\\\n",
        "100/100 [==============================] - 0s 1ms/step - loss: 1.4577,\n",
        "\n",
        "with the 'loss' value decreasing each epoch (each pass through the dataset). This is your neural network learning!"
      ],
      "metadata": {
        "id": "b-ZwWU5AqlKn"
      },
      "id": "b-ZwWU5AqlKn"
    },
    {
      "cell_type": "markdown",
      "source": [
        "# 2 Neural Network Caveats\n",
        "Now we know what's going on inside a neural network, let's go over the limitations and the approach we need to take for preparing data for training.\n"
      ],
      "metadata": {
        "id": "Cb8n_Y7RnJaC"
      },
      "id": "Cb8n_Y7RnJaC"
    },
    {
      "cell_type": "markdown",
      "source": [
        "## 2.1 Overfitting\n",
        "One of the main problems in training neural networks is the risk of our network overfitting on data we used to train our network.\n",
        "\n",
        "The best way to explain this is graphically. Let's say we have a"
      ],
      "metadata": {
        "id": "ceSDX2e5z150"
      },
      "id": "ceSDX2e5z150"
    }
  ],
  "metadata": {
    "kernelspec": {
      "display_name": "Python 3 (ipykernel)",
      "language": "python",
      "name": "python3"
    },
    "language_info": {
      "codemirror_mode": {
        "name": "ipython",
        "version": 3
      },
      "file_extension": ".py",
      "mimetype": "text/x-python",
      "name": "python",
      "nbconvert_exporter": "python",
      "pygments_lexer": "ipython3",
      "version": "3.10.13"
    },
    "colab": {
      "provenance": [],
      "toc_visible": true
    }
  },
  "nbformat": 4,
  "nbformat_minor": 5
}